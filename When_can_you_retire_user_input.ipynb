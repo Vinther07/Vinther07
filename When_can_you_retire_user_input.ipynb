{
  "nbformat": 4,
  "nbformat_minor": 0,
  "metadata": {
    "colab": {
      "name": "When can you retire - user input.ipynb",
      "provenance": [],
      "collapsed_sections": [],
      "authorship_tag": "ABX9TyMWq7UjUh6sOmcPB0U326au",
      "include_colab_link": true
    },
    "kernelspec": {
      "name": "python3",
      "display_name": "Python 3"
    },
    "language_info": {
      "name": "python"
    }
  },
  "cells": [
    {
      "cell_type": "markdown",
      "metadata": {
        "id": "view-in-github",
        "colab_type": "text"
      },
      "source": [
        "<a href=\"https://colab.research.google.com/github/Vinther07/Vinther07/blob/main/When_can_you_retire_user_input.ipynb\" target=\"_parent\"><img src=\"https://colab.research.google.com/assets/colab-badge.svg\" alt=\"Open In Colab\"/></a>"
      ]
    },
    {
      "cell_type": "code",
      "metadata": {
        "id": "0dqKKcy4z8fu"
      },
      "source": [
        "# Description: FIRE retirement strategy Python project"
      ],
      "execution_count": 33,
      "outputs": []
    },
    {
      "cell_type": "code",
      "metadata": {
        "id": "n3tiKkcX3vax"
      },
      "source": [
        "# Importing needed libraries use: pip install --upgrade numpy (to update)\n",
        "import numpy as np\n",
        "import pandas as pd\n",
        "import matplotlib.pyplot as plt"
      ],
      "execution_count": 34,
      "outputs": []
    },
    {
      "cell_type": "code",
      "metadata": {
        "id": "wsHJGLsh4LuP"
      },
      "source": [
        "# Creating list \n",
        "Year = []\n",
        "Yearly_Income = []\n",
        "Yearly_Expenses = []\n",
        "Yearly_Investments =[]\n",
        "Annual_Returns = []"
      ],
      "execution_count": 35,
      "outputs": []
    },
    {
      "cell_type": "code",
      "metadata": {
        "colab": {
          "base_uri": "https://localhost:8080/"
        },
        "id": "rdW4jMDN5g9E",
        "outputId": "025f9182-d6a8-43b7-9141-fd6f8be9b069"
      },
      "source": [
        "# Your yearly constant income\n",
        "income = int(input(\"What is your yearly income? \"))\n",
        "\n",
        "# What percentage of your income do you need to cover your expences?\n",
        "expenseratio = float(input(\"What is your expected expence ratio? (eg. 0.5 for half income after tax to pay for expenses) \"))\n",
        "expenses = income * expenseratio\n",
        "print(\"Your yearly expenses are set to: \" + str(expenses))\n",
        "Monthly_expenses = expenses/12\n",
        "print((\"Your montly expenses are set to: \" + str(Monthly_expenses)))\n",
        "\n",
        "# What is your expected annual interest rate? Could use: https://www.afkastforventninger.dk/ as a baseline\n",
        "interest_rate = float(input(\"What interest rate do you expect to get? (0.08 for 8%) \"))\n",
        "\n",
        "# Annual investment\n",
        "investment = income - expenses\n",
        "\n",
        "# Calculate your annual return based on inputs from ealier\n",
        "annual_return = float((income - expenses) * interest_rate)\n",
        "\n",
        "# Printing expected non compounded investment return before taxes\n",
        "print(\"Your yearly return on investment before tax is: \" + str(annual_return))\n",
        "\n",
        "#Getting current year \n",
        "year = 2021"
      ],
      "execution_count": 36,
      "outputs": [
        {
          "output_type": "stream",
          "name": "stdout",
          "text": [
            "What is your yearly income? 130000\n",
            "What is your expected expence ratio? (eg. 0.5 for half income after tax to pay for expenses) 0.7\n",
            "Your yearly expenses are set to: 91000.0\n",
            "Your montly expenses are set to: 7583.333333333333\n",
            "What interest rate do you expect to get? (0.08 for 8%) 0.2\n",
            "Your yearly return on investment before tax is: 7800.0\n"
          ]
        }
      ]
    },
    {
      "cell_type": "code",
      "metadata": {
        "id": "X1YF6IugFJSQ"
      },
      "source": [
        "# Append the first values to the lists\n",
        "Year.append(year)\n",
        "Yearly_Income.append(income)\n",
        "Yearly_Expenses.append(expenses)\n",
        "Yearly_Investments.append(investment)\n",
        "Annual_Returns.append(annual_return)"
      ],
      "execution_count": 37,
      "outputs": []
    },
    {
      "cell_type": "code",
      "metadata": {
        "colab": {
          "base_uri": "https://localhost:8080/"
        },
        "id": "yQYSoZpfGzlU",
        "outputId": "6516c04b-1b60-4b82-e5a7-8b768fd588f5"
      },
      "source": [
        "# Loop for \"n\" years\n",
        "invested_years = input(\"How many years do you invest like this? \")\n",
        "for i in range (0, int(invested_years)-1):\n",
        "  # Update the investment to be the previous investment plus the previous annual return plus half of your income.\n",
        "  investment = investment + annual_return + income/2\n",
        "  # Update the annual return to be the current investment times the interest rate\n",
        "  annual_return = investment * interest_rate\n",
        "  # Append new data to the list\n",
        "  Year.append(year+i+1)\n",
        "  Yearly_Income.append(income)\n",
        "  Yearly_Expenses.append(expenses)\n",
        "  Yearly_Investments.append(investment)\n",
        "  Annual_Returns.append(annual_return)"
      ],
      "execution_count": 38,
      "outputs": [
        {
          "name": "stdout",
          "output_type": "stream",
          "text": [
            "How many years do you invest like this? 7\n"
          ]
        }
      ]
    },
    {
      "cell_type": "code",
      "metadata": {
        "id": "I_9JrfgyIJS4"
      },
      "source": [
        "# Create a dataframe\n",
        "df = pd.DataFrame()\n",
        "df['Year'] = Year\n",
        "df['Yearly_Income'] = Yearly_Income\n",
        "df['Yearly_Expenses'] = Yearly_Expenses\n",
        "df['Yearly_Investments'] = Yearly_Investments\n",
        "df['Annual_Returns'] = Annual_Returns"
      ],
      "execution_count": 39,
      "outputs": []
    },
    {
      "cell_type": "code",
      "metadata": {
        "colab": {
          "base_uri": "https://localhost:8080/",
          "height": 269
        },
        "id": "76xMc5bTJgIM",
        "outputId": "7b938cfe-a9e5-48b9-c9b7-f7e8a6b555b5"
      },
      "source": [
        "# Show the data\n",
        "df"
      ],
      "execution_count": 40,
      "outputs": [
        {
          "output_type": "execute_result",
          "data": {
            "text/html": [
              "<div>\n",
              "<style scoped>\n",
              "    .dataframe tbody tr th:only-of-type {\n",
              "        vertical-align: middle;\n",
              "    }\n",
              "\n",
              "    .dataframe tbody tr th {\n",
              "        vertical-align: top;\n",
              "    }\n",
              "\n",
              "    .dataframe thead th {\n",
              "        text-align: right;\n",
              "    }\n",
              "</style>\n",
              "<table border=\"1\" class=\"dataframe\">\n",
              "  <thead>\n",
              "    <tr style=\"text-align: right;\">\n",
              "      <th></th>\n",
              "      <th>Year</th>\n",
              "      <th>Yearly_Income</th>\n",
              "      <th>Yearly_Expenses</th>\n",
              "      <th>Yearly_Investments</th>\n",
              "      <th>Annual_Returns</th>\n",
              "    </tr>\n",
              "  </thead>\n",
              "  <tbody>\n",
              "    <tr>\n",
              "      <th>0</th>\n",
              "      <td>2021</td>\n",
              "      <td>130000</td>\n",
              "      <td>91000.0</td>\n",
              "      <td>39000.000</td>\n",
              "      <td>7800.0000</td>\n",
              "    </tr>\n",
              "    <tr>\n",
              "      <th>1</th>\n",
              "      <td>2022</td>\n",
              "      <td>130000</td>\n",
              "      <td>91000.0</td>\n",
              "      <td>111800.000</td>\n",
              "      <td>22360.0000</td>\n",
              "    </tr>\n",
              "    <tr>\n",
              "      <th>2</th>\n",
              "      <td>2023</td>\n",
              "      <td>130000</td>\n",
              "      <td>91000.0</td>\n",
              "      <td>199160.000</td>\n",
              "      <td>39832.0000</td>\n",
              "    </tr>\n",
              "    <tr>\n",
              "      <th>3</th>\n",
              "      <td>2024</td>\n",
              "      <td>130000</td>\n",
              "      <td>91000.0</td>\n",
              "      <td>303992.000</td>\n",
              "      <td>60798.4000</td>\n",
              "    </tr>\n",
              "    <tr>\n",
              "      <th>4</th>\n",
              "      <td>2025</td>\n",
              "      <td>130000</td>\n",
              "      <td>91000.0</td>\n",
              "      <td>429790.400</td>\n",
              "      <td>85958.0800</td>\n",
              "    </tr>\n",
              "    <tr>\n",
              "      <th>5</th>\n",
              "      <td>2026</td>\n",
              "      <td>130000</td>\n",
              "      <td>91000.0</td>\n",
              "      <td>580748.480</td>\n",
              "      <td>116149.6960</td>\n",
              "    </tr>\n",
              "    <tr>\n",
              "      <th>6</th>\n",
              "      <td>2027</td>\n",
              "      <td>130000</td>\n",
              "      <td>91000.0</td>\n",
              "      <td>761898.176</td>\n",
              "      <td>152379.6352</td>\n",
              "    </tr>\n",
              "  </tbody>\n",
              "</table>\n",
              "</div>"
            ],
            "text/plain": [
              "   Year  Yearly_Income  Yearly_Expenses  Yearly_Investments  Annual_Returns\n",
              "0  2021         130000          91000.0           39000.000       7800.0000\n",
              "1  2022         130000          91000.0          111800.000      22360.0000\n",
              "2  2023         130000          91000.0          199160.000      39832.0000\n",
              "3  2024         130000          91000.0          303992.000      60798.4000\n",
              "4  2025         130000          91000.0          429790.400      85958.0800\n",
              "5  2026         130000          91000.0          580748.480     116149.6960\n",
              "6  2027         130000          91000.0          761898.176     152379.6352"
            ]
          },
          "metadata": {},
          "execution_count": 40
        }
      ]
    },
    {
      "cell_type": "code",
      "metadata": {
        "colab": {
          "base_uri": "https://localhost:8080/",
          "height": 365
        },
        "id": "JzkO5iBSKkja",
        "outputId": "dd71d5d4-697b-4b39-bac2-59211fd01f1d"
      },
      "source": [
        "# Vissualize the data\n",
        "plt.figure(figsize=(12.5, 5))\n",
        "plt.plot(df['Year'], df['Yearly_Expenses'], label = 'Yearly_Expenses')\n",
        "plt.plot(df['Year'], df['Annual_Returns'], label = 'Annual_Returns')\n",
        "plt.xticks(rotation = 45)\n",
        "plt.title('Investment period: '+ str(invested_years)+ ' years')\n",
        "plt.xlabel('Years')\n",
        "plt.ylabel('Money based on your currency input')\n",
        "plt.xticks(df['Year'])\n",
        "plt.legend()\n",
        "plt.show()"
      ],
      "execution_count": 41,
      "outputs": [
        {
          "output_type": "display_data",
          "data": {
            "image/png": "[encoded data removed]",
            "text/plain": [
              "<Figure size 900x360 with 1 Axes>"
            ]
          },
          "metadata": {
            "needs_background": "light"
          }
        }
      ]
    },
    {
      "cell_type": "code",
      "metadata": {
        "colab": {
          "base_uri": "https://localhost:8080/",
          "height": 81
        },
        "id": "U9XBqbnRMY6e",
        "outputId": "bf641324-f323-46af-ede5-a273ddfe1c45"
      },
      "source": [
        "# Show the year / row where you can live off your returns\n",
        "df[df.Yearly_Expenses <= df.Annual_Returns].head(1)"
      ],
      "execution_count": 42,
      "outputs": [
        {
          "output_type": "execute_result",
          "data": {
            "text/html": [
              "<div>\n",
              "<style scoped>\n",
              "    .dataframe tbody tr th:only-of-type {\n",
              "        vertical-align: middle;\n",
              "    }\n",
              "\n",
              "    .dataframe tbody tr th {\n",
              "        vertical-align: top;\n",
              "    }\n",
              "\n",
              "    .dataframe thead th {\n",
              "        text-align: right;\n",
              "    }\n",
              "</style>\n",
              "<table border=\"1\" class=\"dataframe\">\n",
              "  <thead>\n",
              "    <tr style=\"text-align: right;\">\n",
              "      <th></th>\n",
              "      <th>Year</th>\n",
              "      <th>Yearly_Income</th>\n",
              "      <th>Yearly_Expenses</th>\n",
              "      <th>Yearly_Investments</th>\n",
              "      <th>Annual_Returns</th>\n",
              "    </tr>\n",
              "  </thead>\n",
              "  <tbody>\n",
              "    <tr>\n",
              "      <th>5</th>\n",
              "      <td>2026</td>\n",
              "      <td>130000</td>\n",
              "      <td>91000.0</td>\n",
              "      <td>580748.48</td>\n",
              "      <td>116149.696</td>\n",
              "    </tr>\n",
              "  </tbody>\n",
              "</table>\n",
              "</div>"
            ],
            "text/plain": [
              "   Year  Yearly_Income  Yearly_Expenses  Yearly_Investments  Annual_Returns\n",
              "5  2026         130000          91000.0           580748.48      116149.696"
            ]
          },
          "metadata": {},
          "execution_count": 42
        }
      ]
    }
  ]
}