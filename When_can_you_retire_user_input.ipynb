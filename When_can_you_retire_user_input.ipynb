{
  "nbformat": 4,
  "nbformat_minor": 0,
  "metadata": {
    "colab": {
      "name": "When can you retire - user input.ipynb",
      "provenance": [],
      "collapsed_sections": [],
      "authorship_tag": "ABX9TyMN4ijhAq9+xwtcYqioF2Ih",
      "include_colab_link": true
    },
    "kernelspec": {
      "name": "python3",
      "display_name": "Python 3"
    },
    "language_info": {
      "name": "python"
    }
  },
  "cells": [
    {
      "cell_type": "markdown",
      "metadata": {
        "id": "view-in-github",
        "colab_type": "text"
      },
      "source": [
        "<a href=\"https://colab.research.google.com/github/Vinther07/Vinther07/blob/main/When_can_you_retire_user_input.ipynb\" target=\"_parent\"><img src=\"https://colab.research.google.com/assets/colab-badge.svg\" alt=\"Open In Colab\"/></a>"
      ]
    },
    {
      "cell_type": "code",
      "metadata": {
        "id": "0dqKKcy4z8fu"
      },
      "source": [
        "# Description: FIRE / early retirement calculator Python project"
      ],
      "execution_count": 12,
      "outputs": []
    },
    {
      "cell_type": "code",
      "metadata": {
        "id": "n3tiKkcX3vax"
      },
      "source": [
        "# Importing needed libraries use: pip install --upgrade numpy (to update)\n",
        "import numpy as np\n",
        "import pandas as pd\n",
        "import matplotlib.pyplot as plt"
      ],
      "execution_count": 13,
      "outputs": []
    },
    {
      "cell_type": "code",
      "metadata": {
        "id": "wsHJGLsh4LuP"
      },
      "source": [
        "# Creating list \n",
        "Year = []\n",
        "Yearly_Income = []\n",
        "Yearly_Expenses = []\n",
        "Yearly_Investments =[]\n",
        "Annual_Returns = []"
      ],
      "execution_count": 14,
      "outputs": []
    },
    {
      "cell_type": "code",
      "metadata": {
        "colab": {
          "base_uri": "https://localhost:8080/"
        },
        "id": "rdW4jMDN5g9E",
        "outputId": "246edec4-ca6d-43b1-fc00-44da585358d5"
      },
      "source": [
        "# Your yearly constant income\n",
        "income = int(input(\"What is your yearly income? \"))\n",
        "\n",
        "# What percentage of your income do you need to cover your expences?\n",
        "expenseratio = float(input(\"What is your expected expence ratio? (eg. 0.5 for half income after tax to pay for expenses) \"))\n",
        "expenses = income * expenseratio\n",
        "print(\"Your yearly expenses are set to: \" + str(expenses))\n",
        "Monthly_expenses = expenses/12\n",
        "print((\"Your montly expenses are set to: \" + str(Monthly_expenses)))\n",
        "\n",
        "# What is your expected annual interest rate? Could use: https://www.afkastforventninger.dk/ as a baseline\n",
        "interest_rate = float(input(\"What interest rate do you expect to get? (0.08 for 8%) \"))\n",
        "\n",
        "# Annual investment\n",
        "investment = income - expenses\n",
        "\n",
        "# Calculate your annual return based on inputs from ealier\n",
        "annual_return = float((income - expenses) * interest_rate)\n",
        "\n",
        "# Printing expected non compounded investment return before taxes\n",
        "print(\"Your yearly return on investment before tax is: \" + str(annual_return))\n",
        "\n",
        "#Getting current year \n",
        "year = 2021"
      ],
      "execution_count": 15,
      "outputs": [
        {
          "output_type": "stream",
          "name": "stdout",
          "text": [
            "What is your yearly income? 132000\n",
            "What is your expected expence ratio? (eg. 0.5 for half income after tax to pay for expenses) .5\n",
            "Your yearly expenses are set to: 66000.0\n",
            "Your montly expenses are set to: 5500.0\n",
            "What interest rate do you expect to get? (0.08 for 8%) 0.08\n",
            "Your yearly return on investment before tax is: 5280.0\n"
          ]
        }
      ]
    },
    {
      "cell_type": "code",
      "metadata": {
        "id": "X1YF6IugFJSQ"
      },
      "source": [
        "# Append the first values to the lists\n",
        "Year.append(year)\n",
        "Yearly_Income.append(income)\n",
        "Yearly_Expenses.append(expenses)\n",
        "Yearly_Investments.append(investment)\n",
        "Annual_Returns.append(annual_return)"
      ],
      "execution_count": 16,
      "outputs": []
    },
    {
      "cell_type": "code",
      "metadata": {
        "colab": {
          "base_uri": "https://localhost:8080/"
        },
        "id": "yQYSoZpfGzlU",
        "outputId": "059086ce-98b3-47bf-9a92-48eec6db4ad7"
      },
      "source": [
        "# Loop for \"n\" years\n",
        "invested_years = input(\"How many years do you invest like this? \")\n",
        "for i in range (0, int(invested_years)-1):\n",
        "  # Update the investment to be the previous investment plus the previous annual return plus half of your income.\n",
        "  investment = investment + annual_return + income/2\n",
        "  # Update the annual return to be the current investment times the interest rate\n",
        "  annual_return = investment * interest_rate\n",
        "  # Append new data to the list\n",
        "  Year.append(year+i+1)\n",
        "  Yearly_Income.append(income)\n",
        "  Yearly_Expenses.append(expenses)\n",
        "  Yearly_Investments.append(investment)\n",
        "  Annual_Returns.append(annual_return)"
      ],
      "execution_count": 17,
      "outputs": [
        {
          "name": "stdout",
          "output_type": "stream",
          "text": [
            "How many years do you invest like this? 10\n"
          ]
        }
      ]
    },
    {
      "cell_type": "code",
      "metadata": {
        "id": "I_9JrfgyIJS4"
      },
      "source": [
        "# Create a dataframe\n",
        "df = pd.DataFrame()\n",
        "df['Year'] = Year\n",
        "df['Yearly_Income'] = Yearly_Income\n",
        "df['Yearly_Expenses'] = Yearly_Expenses\n",
        "df['Yearly_Investments'] = Yearly_Investments\n",
        "df['Annual_Returns'] = Annual_Returns"
      ],
      "execution_count": 18,
      "outputs": []
    },
    {
      "cell_type": "code",
      "metadata": {
        "colab": {
          "base_uri": "https://localhost:8080/",
          "height": 359
        },
        "id": "76xMc5bTJgIM",
        "outputId": "65cce1a1-9c93-486f-a7ba-811f027e7dec"
      },
      "source": [
        "# Show the data\n",
        "df"
      ],
      "execution_count": 19,
      "outputs": [
        {
          "output_type": "execute_result",
          "data": {
            "text/plain": [
              "   Year  Yearly_Income  Yearly_Expenses  Yearly_Investments  Annual_Returns\n",
              "0  2021         132000          66000.0        66000.000000     5280.000000\n",
              "1  2022         132000          66000.0       137280.000000    10982.400000\n",
              "2  2023         132000          66000.0       214262.400000    17140.992000\n",
              "3  2024         132000          66000.0       297403.392000    23792.271360\n",
              "4  2025         132000          66000.0       387195.663360    30975.653069\n",
              "5  2026         132000          66000.0       484171.316429    38733.705314\n",
              "6  2027         132000          66000.0       588905.021743    47112.401739\n",
              "7  2028         132000          66000.0       702017.423483    56161.393879\n",
              "8  2029         132000          66000.0       824178.817361    65934.305389\n",
              "9  2030         132000          66000.0       956113.122750    76489.049820"
            ],
            "text/html": [
              "\n",
              "  <div id=\"df-52524460-9830-46b4-ab95-7583800869be\">\n",
              "    <div class=\"colab-df-container\">\n",
              "      <div>\n",
              "<style scoped>\n",
              "    .dataframe tbody tr th:only-of-type {\n",
              "        vertical-align: middle;\n",
              "    }\n",
              "\n",
              "    .dataframe tbody tr th {\n",
              "        vertical-align: top;\n",
              "    }\n",
              "\n",
              "    .dataframe thead th {\n",
              "        text-align: right;\n",
              "    }\n",
              "</style>\n",
              "<table border=\"1\" class=\"dataframe\">\n",
              "  <thead>\n",
              "    <tr style=\"text-align: right;\">\n",
              "      <th></th>\n",
              "      <th>Year</th>\n",
              "      <th>Yearly_Income</th>\n",
              "      <th>Yearly_Expenses</th>\n",
              "      <th>Yearly_Investments</th>\n",
              "      <th>Annual_Returns</th>\n",
              "    </tr>\n",
              "  </thead>\n",
              "  <tbody>\n",
              "    <tr>\n",
              "      <th>0</th>\n",
              "      <td>2021</td>\n",
              "      <td>132000</td>\n",
              "      <td>66000.0</td>\n",
              "      <td>66000.000000</td>\n",
              "      <td>5280.000000</td>\n",
              "    </tr>\n",
              "    <tr>\n",
              "      <th>1</th>\n",
              "      <td>2022</td>\n",
              "      <td>132000</td>\n",
              "      <td>66000.0</td>\n",
              "      <td>137280.000000</td>\n",
              "      <td>10982.400000</td>\n",
              "    </tr>\n",
              "    <tr>\n",
              "      <th>2</th>\n",
              "      <td>2023</td>\n",
              "      <td>132000</td>\n",
              "      <td>66000.0</td>\n",
              "      <td>214262.400000</td>\n",
              "      <td>17140.992000</td>\n",
              "    </tr>\n",
              "    <tr>\n",
              "      <th>3</th>\n",
              "      <td>2024</td>\n",
              "      <td>132000</td>\n",
              "      <td>66000.0</td>\n",
              "      <td>297403.392000</td>\n",
              "      <td>23792.271360</td>\n",
              "    </tr>\n",
              "    <tr>\n",
              "      <th>4</th>\n",
              "      <td>2025</td>\n",
              "      <td>132000</td>\n",
              "      <td>66000.0</td>\n",
              "      <td>387195.663360</td>\n",
              "      <td>30975.653069</td>\n",
              "    </tr>\n",
              "    <tr>\n",
              "      <th>5</th>\n",
              "      <td>2026</td>\n",
              "      <td>132000</td>\n",
              "      <td>66000.0</td>\n",
              "      <td>484171.316429</td>\n",
              "      <td>38733.705314</td>\n",
              "    </tr>\n",
              "    <tr>\n",
              "      <th>6</th>\n",
              "      <td>2027</td>\n",
              "      <td>132000</td>\n",
              "      <td>66000.0</td>\n",
              "      <td>588905.021743</td>\n",
              "      <td>47112.401739</td>\n",
              "    </tr>\n",
              "    <tr>\n",
              "      <th>7</th>\n",
              "      <td>2028</td>\n",
              "      <td>132000</td>\n",
              "      <td>66000.0</td>\n",
              "      <td>702017.423483</td>\n",
              "      <td>56161.393879</td>\n",
              "    </tr>\n",
              "    <tr>\n",
              "      <th>8</th>\n",
              "      <td>2029</td>\n",
              "      <td>132000</td>\n",
              "      <td>66000.0</td>\n",
              "      <td>824178.817361</td>\n",
              "      <td>65934.305389</td>\n",
              "    </tr>\n",
              "    <tr>\n",
              "      <th>9</th>\n",
              "      <td>2030</td>\n",
              "      <td>132000</td>\n",
              "      <td>66000.0</td>\n",
              "      <td>956113.122750</td>\n",
              "      <td>76489.049820</td>\n",
              "    </tr>\n",
              "  </tbody>\n",
              "</table>\n",
              "</div>\n",
              "      <button class=\"colab-df-convert\" onclick=\"convertToInteractive('df-52524460-9830-46b4-ab95-7583800869be')\"\n",
              "              title=\"Convert this dataframe to an interactive table.\"\n",
              "              style=\"display:none;\">\n",
              "        \n",
              "  <svg xmlns=\"http://www.w3.org/2000/svg\" height=\"24px\"viewBox=\"0 0 24 24\"\n",
              "       width=\"24px\">\n",
              "    <path d=\"M0 0h24v24H0V0z\" fill=\"none\"/>\n",
              "    <path d=\"M18.56 5.44l.94 2.06.94-2.06 2.06-.94-2.06-.94-.94-2.06-.94 2.06-2.06.94zm-11 1L8.5 8.5l.94-2.06 2.06-.94-2.06-.94L8.5 2.5l-.94 2.06-2.06.94zm10 10l.94 2.06.94-2.06 2.06-.94-2.06-.94-.94-2.06-.94 2.06-2.06.94z\"/><path d=\"M17.41 7.96l-1.37-1.37c-.4-.4-.92-.59-1.43-.59-.52 0-1.04.2-1.43.59L10.3 9.45l-7.72 7.72c-.78.78-.78 2.05 0 2.83L4 21.41c.39.39.9.59 1.41.59.51 0 1.02-.2 1.41-.59l7.78-7.78 2.81-2.81c.8-.78.8-2.07 0-2.86zM5.41 20L4 18.59l7.72-7.72 1.47 1.35L5.41 20z\"/>\n",
              "  </svg>\n",
              "      </button>\n",
              "      \n",
              "  <style>\n",
              "    .colab-df-container {\n",
              "      display:flex;\n",
              "      flex-wrap:wrap;\n",
              "      gap: 12px;\n",
              "    }\n",
              "\n",
              "    .colab-df-convert {\n",
              "      background-color: #E8F0FE;\n",
              "      border: none;\n",
              "      border-radius: 50%;\n",
              "      cursor: pointer;\n",
              "      display: none;\n",
              "      fill: #1967D2;\n",
              "      height: 32px;\n",
              "      padding: 0 0 0 0;\n",
              "      width: 32px;\n",
              "    }\n",
              "\n",
              "    .colab-df-convert:hover {\n",
              "      background-color: #E2EBFA;\n",
              "      box-shadow: 0px 1px 2px rgba(60, 64, 67, 0.3), 0px 1px 3px 1px rgba(60, 64, 67, 0.15);\n",
              "      fill: #174EA6;\n",
              "    }\n",
              "\n",
              "    [theme=dark] .colab-df-convert {\n",
              "      background-color: #3B4455;\n",
              "      fill: #D2E3FC;\n",
              "    }\n",
              "\n",
              "    [theme=dark] .colab-df-convert:hover {\n",
              "      background-color: #434B5C;\n",
              "      box-shadow: 0px 1px 3px 1px rgba(0, 0, 0, 0.15);\n",
              "      filter: drop-shadow(0px 1px 2px rgba(0, 0, 0, 0.3));\n",
              "      fill: #FFFFFF;\n",
              "    }\n",
              "  </style>\n",
              "\n",
              "      <script>\n",
              "        const buttonEl =\n",
              "          document.querySelector('#df-52524460-9830-46b4-ab95-7583800869be button.colab-df-convert');\n",
              "        buttonEl.style.display =\n",
              "          google.colab.kernel.accessAllowed ? 'block' : 'none';\n",
              "\n",
              "        async function convertToInteractive(key) {\n",
              "          const element = document.querySelector('#df-52524460-9830-46b4-ab95-7583800869be');\n",
              "          const dataTable =\n",
              "            await google.colab.kernel.invokeFunction('convertToInteractive',\n",
              "                                                     [key], {});\n",
              "          if (!dataTable) return;\n",
              "\n",
              "          const docLinkHtml = 'Like what you see? Visit the ' +\n",
              "            '<a target=\"_blank\" href=https://colab.research.google.com/notebooks/data_table.ipynb>data table notebook</a>'\n",
              "            + ' to learn more about interactive tables.';\n",
              "          element.innerHTML = '';\n",
              "          dataTable['output_type'] = 'display_data';\n",
              "          await google.colab.output.renderOutput(dataTable, element);\n",
              "          const docLink = document.createElement('div');\n",
              "          docLink.innerHTML = docLinkHtml;\n",
              "          element.appendChild(docLink);\n",
              "        }\n",
              "      </script>\n",
              "    </div>\n",
              "  </div>\n",
              "  "
            ]
          },
          "metadata": {},
          "execution_count": 19
        }
      ]
    },
    {
      "cell_type": "code",
      "metadata": {
        "colab": {
          "base_uri": "https://localhost:8080/",
          "height": 365
        },
        "id": "JzkO5iBSKkja",
        "outputId": "289b89cf-ec77-44d1-a0ad-3dadc3ad7f67"
      },
      "source": [
        "# Vissualize the data\n",
        "plt.figure(figsize=(12.5, 5))\n",
        "plt.plot(df['Year'], df['Yearly_Expenses'], label = 'Yearly_Expenses')\n",
        "plt.plot(df['Year'], df['Annual_Returns'], label = 'Annual_Returns')\n",
        "plt.xticks(rotation = 45)\n",
        "plt.title('Investment period: '+ str(invested_years)+ ' years')\n",
        "plt.xlabel('Years')\n",
        "plt.ylabel('Money based on your currency input')\n",
        "plt.xticks(df['Year'])\n",
        "plt.legend()\n",
        "plt.show()"
      ],
      "execution_count": 20,
      "outputs": [
        {
          "output_type": "display_data",
          "data": {
            "text/plain": [
              "<Figure size 900x360 with 1 Axes>"
            ],
            "image/png": "[encoded data removed]"
          },
          "metadata": {
            "needs_background": "light"
          }
        }
      ]
    },
    {
      "cell_type": "code",
      "metadata": {
        "colab": {
          "base_uri": "https://localhost:8080/",
          "height": 131
        },
        "id": "U9XBqbnRMY6e",
        "outputId": "d4e748b3-5b74-4b0e-8ff3-777c38c039dc"
      },
      "source": [
        "# Show the year / row where you can live off your returns\n",
        "df[df.Yearly_Expenses <= df.Annual_Returns].head(1)"
      ],
      "execution_count": 21,
      "outputs": [
        {
          "output_type": "execute_result",
          "data": {
            "text/plain": [
              "   Year  Yearly_Income  Yearly_Expenses  Yearly_Investments  Annual_Returns\n",
              "9  2030         132000          66000.0        956113.12275     76489.04982"
            ],
            "text/html": [
              "\n",
              "  <div id=\"df-c9116534-0a38-4b55-ac36-3bcc8823b12d\">\n",
              "    <div class=\"colab-df-container\">\n",
              "      <div>\n",
              "<style scoped>\n",
              "    .dataframe tbody tr th:only-of-type {\n",
              "        vertical-align: middle;\n",
              "    }\n",
              "\n",
              "    .dataframe tbody tr th {\n",
              "        vertical-align: top;\n",
              "    }\n",
              "\n",
              "    .dataframe thead th {\n",
              "        text-align: right;\n",
              "    }\n",
              "</style>\n",
              "<table border=\"1\" class=\"dataframe\">\n",
              "  <thead>\n",
              "    <tr style=\"text-align: right;\">\n",
              "      <th></th>\n",
              "      <th>Year</th>\n",
              "      <th>Yearly_Income</th>\n",
              "      <th>Yearly_Expenses</th>\n",
              "      <th>Yearly_Investments</th>\n",
              "      <th>Annual_Returns</th>\n",
              "    </tr>\n",
              "  </thead>\n",
              "  <tbody>\n",
              "    <tr>\n",
              "      <th>9</th>\n",
              "      <td>2030</td>\n",
              "      <td>132000</td>\n",
              "      <td>66000.0</td>\n",
              "      <td>956113.12275</td>\n",
              "      <td>76489.04982</td>\n",
              "    </tr>\n",
              "  </tbody>\n",
              "</table>\n",
              "</div>\n",
              "      <button class=\"colab-df-convert\" onclick=\"convertToInteractive('df-c9116534-0a38-4b55-ac36-3bcc8823b12d')\"\n",
              "              title=\"Convert this dataframe to an interactive table.\"\n",
              "              style=\"display:none;\">\n",
              "        \n",
              "  <svg xmlns=\"http://www.w3.org/2000/svg\" height=\"24px\"viewBox=\"0 0 24 24\"\n",
              "       width=\"24px\">\n",
              "    <path d=\"M0 0h24v24H0V0z\" fill=\"none\"/>\n",
              "    <path d=\"M18.56 5.44l.94 2.06.94-2.06 2.06-.94-2.06-.94-.94-2.06-.94 2.06-2.06.94zm-11 1L8.5 8.5l.94-2.06 2.06-.94-2.06-.94L8.5 2.5l-.94 2.06-2.06.94zm10 10l.94 2.06.94-2.06 2.06-.94-2.06-.94-.94-2.06-.94 2.06-2.06.94z\"/><path d=\"M17.41 7.96l-1.37-1.37c-.4-.4-.92-.59-1.43-.59-.52 0-1.04.2-1.43.59L10.3 9.45l-7.72 7.72c-.78.78-.78 2.05 0 2.83L4 21.41c.39.39.9.59 1.41.59.51 0 1.02-.2 1.41-.59l7.78-7.78 2.81-2.81c.8-.78.8-2.07 0-2.86zM5.41 20L4 18.59l7.72-7.72 1.47 1.35L5.41 20z\"/>\n",
              "  </svg>\n",
              "      </button>\n",
              "      \n",
              "  <style>\n",
              "    .colab-df-container {\n",
              "      display:flex;\n",
              "      flex-wrap:wrap;\n",
              "      gap: 12px;\n",
              "    }\n",
              "\n",
              "    .colab-df-convert {\n",
              "      background-color: #E8F0FE;\n",
              "      border: none;\n",
              "      border-radius: 50%;\n",
              "      cursor: pointer;\n",
              "      display: none;\n",
              "      fill: #1967D2;\n",
              "      height: 32px;\n",
              "      padding: 0 0 0 0;\n",
              "      width: 32px;\n",
              "    }\n",
              "\n",
              "    .colab-df-convert:hover {\n",
              "      background-color: #E2EBFA;\n",
              "      box-shadow: 0px 1px 2px rgba(60, 64, 67, 0.3), 0px 1px 3px 1px rgba(60, 64, 67, 0.15);\n",
              "      fill: #174EA6;\n",
              "    }\n",
              "\n",
              "    [theme=dark] .colab-df-convert {\n",
              "      background-color: #3B4455;\n",
              "      fill: #D2E3FC;\n",
              "    }\n",
              "\n",
              "    [theme=dark] .colab-df-convert:hover {\n",
              "      background-color: #434B5C;\n",
              "      box-shadow: 0px 1px 3px 1px rgba(0, 0, 0, 0.15);\n",
              "      filter: drop-shadow(0px 1px 2px rgba(0, 0, 0, 0.3));\n",
              "      fill: #FFFFFF;\n",
              "    }\n",
              "  </style>\n",
              "\n",
              "      <script>\n",
              "        const buttonEl =\n",
              "          document.querySelector('#df-c9116534-0a38-4b55-ac36-3bcc8823b12d button.colab-df-convert');\n",
              "        buttonEl.style.display =\n",
              "          google.colab.kernel.accessAllowed ? 'block' : 'none';\n",
              "\n",
              "        async function convertToInteractive(key) {\n",
              "          const element = document.querySelector('#df-c9116534-0a38-4b55-ac36-3bcc8823b12d');\n",
              "          const dataTable =\n",
              "            await google.colab.kernel.invokeFunction('convertToInteractive',\n",
              "                                                     [key], {});\n",
              "          if (!dataTable) return;\n",
              "\n",
              "          const docLinkHtml = 'Like what you see? Visit the ' +\n",
              "            '<a target=\"_blank\" href=https://colab.research.google.com/notebooks/data_table.ipynb>data table notebook</a>'\n",
              "            + ' to learn more about interactive tables.';\n",
              "          element.innerHTML = '';\n",
              "          dataTable['output_type'] = 'display_data';\n",
              "          await google.colab.output.renderOutput(dataTable, element);\n",
              "          const docLink = document.createElement('div');\n",
              "          docLink.innerHTML = docLinkHtml;\n",
              "          element.appendChild(docLink);\n",
              "        }\n",
              "      </script>\n",
              "    </div>\n",
              "  </div>\n",
              "  "
            ]
          },
          "metadata": {},
          "execution_count": 21
        }
      ]
    },
    {
      "cell_type": "code",
      "source": [
        "print(\"There are many veriables when it comes to ones life and personal finance, I might continue to work on this prototype project in order to improve the program.\")"
      ],
      "metadata": {
        "colab": {
          "base_uri": "https://localhost:8080/"
        },
        "id": "0bsumiK3VH3s",
        "outputId": "84843963-e180-4a3c-aa51-c79bfe48a5cf"
      },
      "execution_count": 22,
      "outputs": [
        {
          "output_type": "stream",
          "name": "stdout",
          "text": [
            "There are many veriables when it comes to ones life and personal finance, I might continue to work on this prototype project in order to improve the program.\n"
          ]
        }
      ]
    }
  ]
}