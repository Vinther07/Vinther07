{
  "nbformat": 4,
  "nbformat_minor": 0,
  "metadata": {
    "colab": {
      "name": "When can you retire - user input.ipynb",
      "provenance": [],
      "authorship_tag": "ABX9TyP4yQfSg3diK4hbRNXqujUA",
      "include_colab_link": true
    },
    "kernelspec": {
      "name": "python3",
      "display_name": "Python 3"
    },
    "language_info": {
      "name": "python"
    }
  },
  "cells": [
    {
      "cell_type": "markdown",
      "metadata": {
        "id": "view-in-github",
        "colab_type": "text"
      },
      "source": [
        "<a href=\"https://colab.research.google.com/github/Vinther07/Vinther07/blob/main/When_can_you_retire_user_input.ipynb\" target=\"_parent\"><img src=\"https://colab.research.google.com/assets/colab-badge.svg\" alt=\"Open In Colab\"/></a>"
      ]
    },
    {
      "cell_type": "code",
      "metadata": {
        "id": "0dqKKcy4z8fu"
      },
      "source": [
        "# Description: FIRE retirement strategy Python project"
      ],
      "execution_count": 80,
      "outputs": []
    },
    {
      "cell_type": "code",
      "metadata": {
        "id": "n3tiKkcX3vax"
      },
      "source": [
        "import numpy as np\n",
        "import pandas as pd\n",
        "import matplotlib.pyplot as plt"
      ],
      "execution_count": 81,
      "outputs": []
    },
    {
      "cell_type": "code",
      "metadata": {
        "id": "wsHJGLsh4LuP"
      },
      "source": [
        "# Creating list \n",
        "Year = []\n",
        "Yearly_Income = []\n",
        "Yearly_Expenses = []\n",
        "Yearly_Investments =[]\n",
        "Annual_Returns = []"
      ],
      "execution_count": 82,
      "outputs": []
    },
    {
      "cell_type": "code",
      "metadata": {
        "colab": {
          "base_uri": "https://localhost:8080/"
        },
        "id": "rdW4jMDN5g9E",
        "outputId": "809fcb8b-41a2-4368-9449-7c400b5ed53a"
      },
      "source": [
        "# Your yearly constant income\n",
        "income = int(input(\"What is your yearly income? \"))\n",
        "\n",
        "# What percentage of your income do you need to cover your expences?\n",
        "expenseratio = int(input(\"What is your expected expence ratio? (eg. 2 for half or 3 for 33% 1/3)\"))\n",
        "expenses = income / expenseratio\n",
        "print(\"Your yearly expenses are set to: \" + str(expenses))\n",
        "\n",
        "# What is your expected annual interest rate? Could use: https://www.afkastforventninger.dk/ as a baseline\n",
        "interest_rate = float(input(\"What interest rate do you expect to get? (0.08 for 8%)\"))\n",
        "\n",
        "# Annual investment\n",
        "investment = income - expenses\n",
        "\n",
        "# Calculate your annual return based on inputs from ealier\n",
        "annual_return = float((income - expenses) * interest_rate)\n",
        "\n",
        "# Printing expected non compounded investment return before taxes\n",
        "print(\"Your yearly return on investment before tax is: \" + str(annual_return))\n",
        "\n",
        "#Getting current year \n",
        "year = 2021"
      ],
      "execution_count": 83,
      "outputs": [
        {
          "output_type": "stream",
          "name": "stdout",
          "text": [
            "What is your yearly income? 124800\n",
            "What is your expected expence ratio? (eg. 2 for half or 3 for 33% 1/3)2\n",
            "Your yearly expenses are set to: 62400.0\n",
            "What interest rate do you expect to get? (0.08 for 8%)0.04\n",
            "Your yearly return on investment before tax is: 2496.0\n"
          ]
        }
      ]
    },
    {
      "cell_type": "code",
      "metadata": {
        "id": "X1YF6IugFJSQ"
      },
      "source": [
        "# Append the first values to the lists\n",
        "Year.append(year)\n",
        "Yearly_Income.append(income)\n",
        "Yearly_Expenses.append(expenses)\n",
        "Yearly_Investments.append(investment)\n",
        "Annual_Returns.append(annual_return)"
      ],
      "execution_count": 84,
      "outputs": []
    },
    {
      "cell_type": "code",
      "metadata": {
        "colab": {
          "base_uri": "https://localhost:8080/"
        },
        "id": "yQYSoZpfGzlU",
        "outputId": "65915dd9-10e4-462e-cf56-ea74e4117631"
      },
      "source": [
        "# Loop for \"n\" years\n",
        "invested_years = input(\"How many years do you invest like this? \")\n",
        "for i in range (0, int(invested_years)-1):\n",
        "  # Update the investment to be the previous investment plus the previous annual return plus half of your income.\n",
        "  investment = investment + annual_return + income/2\n",
        "  # Update the annual return to be the current investment times the interest rate\n",
        "  annual_return = investment * interest_rate\n",
        "  # Append new data to the list\n",
        "  Year.append(year+i+1)\n",
        "  Yearly_Income.append(income)\n",
        "  Yearly_Expenses.append(expenses)\n",
        "  Yearly_Investments.append(investment)\n",
        "  Annual_Returns.append(annual_return)"
      ],
      "execution_count": 85,
      "outputs": [
        {
          "name": "stdout",
          "output_type": "stream",
          "text": [
            "How many years do you invest like this? 30\n"
          ]
        }
      ]
    },
    {
      "cell_type": "code",
      "metadata": {
        "id": "I_9JrfgyIJS4"
      },
      "source": [
        "# Create a dataframe\n",
        "df = pd.DataFrame()\n",
        "df['Year'] = Year\n",
        "df['Yearly_Income'] = Yearly_Income\n",
        "df['Yearly_Expenses'] = Yearly_Expenses\n",
        "df['Yearly_Investments'] = Yearly_Investments\n",
        "df['Annual_Returns'] = Annual_Returns"
      ],
      "execution_count": 86,
      "outputs": []
    },
    {
      "cell_type": "code",
      "metadata": {
        "colab": {
          "base_uri": "https://localhost:8080/",
          "height": 989
        },
        "id": "76xMc5bTJgIM",
        "outputId": "e47393f8-1a7e-45c8-ec3e-3d8557ba0ce9"
      },
      "source": [
        "# Show the data\n",
        "df"
      ],
      "execution_count": 87,
      "outputs": [
        {
          "output_type": "execute_result",
          "data": {
            "text/html": [
              "<div>\n",
              "<style scoped>\n",
              "    .dataframe tbody tr th:only-of-type {\n",
              "        vertical-align: middle;\n",
              "    }\n",
              "\n",
              "    .dataframe tbody tr th {\n",
              "        vertical-align: top;\n",
              "    }\n",
              "\n",
              "    .dataframe thead th {\n",
              "        text-align: right;\n",
              "    }\n",
              "</style>\n",
              "<table border=\"1\" class=\"dataframe\">\n",
              "  <thead>\n",
              "    <tr style=\"text-align: right;\">\n",
              "      <th></th>\n",
              "      <th>Year</th>\n",
              "      <th>Yearly_Income</th>\n",
              "      <th>Yearly_Expenses</th>\n",
              "      <th>Yearly_Investments</th>\n",
              "      <th>Annual_Returns</th>\n",
              "    </tr>\n",
              "  </thead>\n",
              "  <tbody>\n",
              "    <tr>\n",
              "      <th>0</th>\n",
              "      <td>2021</td>\n",
              "      <td>124800</td>\n",
              "      <td>62400.0</td>\n",
              "      <td>6.240000e+04</td>\n",
              "      <td>2496.000000</td>\n",
              "    </tr>\n",
              "    <tr>\n",
              "      <th>1</th>\n",
              "      <td>2022</td>\n",
              "      <td>124800</td>\n",
              "      <td>62400.0</td>\n",
              "      <td>1.272960e+05</td>\n",
              "      <td>5091.840000</td>\n",
              "    </tr>\n",
              "    <tr>\n",
              "      <th>2</th>\n",
              "      <td>2023</td>\n",
              "      <td>124800</td>\n",
              "      <td>62400.0</td>\n",
              "      <td>1.947878e+05</td>\n",
              "      <td>7791.513600</td>\n",
              "    </tr>\n",
              "    <tr>\n",
              "      <th>3</th>\n",
              "      <td>2024</td>\n",
              "      <td>124800</td>\n",
              "      <td>62400.0</td>\n",
              "      <td>2.649794e+05</td>\n",
              "      <td>10599.174144</td>\n",
              "    </tr>\n",
              "    <tr>\n",
              "      <th>4</th>\n",
              "      <td>2025</td>\n",
              "      <td>124800</td>\n",
              "      <td>62400.0</td>\n",
              "      <td>3.379785e+05</td>\n",
              "      <td>13519.141110</td>\n",
              "    </tr>\n",
              "    <tr>\n",
              "      <th>5</th>\n",
              "      <td>2026</td>\n",
              "      <td>124800</td>\n",
              "      <td>62400.0</td>\n",
              "      <td>4.138977e+05</td>\n",
              "      <td>16555.906754</td>\n",
              "    </tr>\n",
              "    <tr>\n",
              "      <th>6</th>\n",
              "      <td>2027</td>\n",
              "      <td>124800</td>\n",
              "      <td>62400.0</td>\n",
              "      <td>4.928536e+05</td>\n",
              "      <td>19714.143024</td>\n",
              "    </tr>\n",
              "    <tr>\n",
              "      <th>7</th>\n",
              "      <td>2028</td>\n",
              "      <td>124800</td>\n",
              "      <td>62400.0</td>\n",
              "      <td>5.749677e+05</td>\n",
              "      <td>22998.708745</td>\n",
              "    </tr>\n",
              "    <tr>\n",
              "      <th>8</th>\n",
              "      <td>2029</td>\n",
              "      <td>124800</td>\n",
              "      <td>62400.0</td>\n",
              "      <td>6.603664e+05</td>\n",
              "      <td>26414.657095</td>\n",
              "    </tr>\n",
              "    <tr>\n",
              "      <th>9</th>\n",
              "      <td>2030</td>\n",
              "      <td>124800</td>\n",
              "      <td>62400.0</td>\n",
              "      <td>7.491811e+05</td>\n",
              "      <td>29967.243379</td>\n",
              "    </tr>\n",
              "    <tr>\n",
              "      <th>10</th>\n",
              "      <td>2031</td>\n",
              "      <td>124800</td>\n",
              "      <td>62400.0</td>\n",
              "      <td>8.415483e+05</td>\n",
              "      <td>33661.933114</td>\n",
              "    </tr>\n",
              "    <tr>\n",
              "      <th>11</th>\n",
              "      <td>2032</td>\n",
              "      <td>124800</td>\n",
              "      <td>62400.0</td>\n",
              "      <td>9.376103e+05</td>\n",
              "      <td>37504.410439</td>\n",
              "    </tr>\n",
              "    <tr>\n",
              "      <th>12</th>\n",
              "      <td>2033</td>\n",
              "      <td>124800</td>\n",
              "      <td>62400.0</td>\n",
              "      <td>1.037515e+06</td>\n",
              "      <td>41500.586856</td>\n",
              "    </tr>\n",
              "    <tr>\n",
              "      <th>13</th>\n",
              "      <td>2034</td>\n",
              "      <td>124800</td>\n",
              "      <td>62400.0</td>\n",
              "      <td>1.141415e+06</td>\n",
              "      <td>45656.610330</td>\n",
              "    </tr>\n",
              "    <tr>\n",
              "      <th>14</th>\n",
              "      <td>2035</td>\n",
              "      <td>124800</td>\n",
              "      <td>62400.0</td>\n",
              "      <td>1.249472e+06</td>\n",
              "      <td>49978.874744</td>\n",
              "    </tr>\n",
              "    <tr>\n",
              "      <th>15</th>\n",
              "      <td>2036</td>\n",
              "      <td>124800</td>\n",
              "      <td>62400.0</td>\n",
              "      <td>1.361851e+06</td>\n",
              "      <td>54474.029733</td>\n",
              "    </tr>\n",
              "    <tr>\n",
              "      <th>16</th>\n",
              "      <td>2037</td>\n",
              "      <td>124800</td>\n",
              "      <td>62400.0</td>\n",
              "      <td>1.478725e+06</td>\n",
              "      <td>59148.990923</td>\n",
              "    </tr>\n",
              "    <tr>\n",
              "      <th>17</th>\n",
              "      <td>2038</td>\n",
              "      <td>124800</td>\n",
              "      <td>62400.0</td>\n",
              "      <td>1.600274e+06</td>\n",
              "      <td>64010.950560</td>\n",
              "    </tr>\n",
              "    <tr>\n",
              "      <th>18</th>\n",
              "      <td>2039</td>\n",
              "      <td>124800</td>\n",
              "      <td>62400.0</td>\n",
              "      <td>1.726685e+06</td>\n",
              "      <td>69067.388582</td>\n",
              "    </tr>\n",
              "    <tr>\n",
              "      <th>19</th>\n",
              "      <td>2040</td>\n",
              "      <td>124800</td>\n",
              "      <td>62400.0</td>\n",
              "      <td>1.858152e+06</td>\n",
              "      <td>74326.084125</td>\n",
              "    </tr>\n",
              "    <tr>\n",
              "      <th>20</th>\n",
              "      <td>2041</td>\n",
              "      <td>124800</td>\n",
              "      <td>62400.0</td>\n",
              "      <td>1.994878e+06</td>\n",
              "      <td>79795.127490</td>\n",
              "    </tr>\n",
              "    <tr>\n",
              "      <th>21</th>\n",
              "      <td>2042</td>\n",
              "      <td>124800</td>\n",
              "      <td>62400.0</td>\n",
              "      <td>2.137073e+06</td>\n",
              "      <td>85482.932590</td>\n",
              "    </tr>\n",
              "    <tr>\n",
              "      <th>22</th>\n",
              "      <td>2043</td>\n",
              "      <td>124800</td>\n",
              "      <td>62400.0</td>\n",
              "      <td>2.284956e+06</td>\n",
              "      <td>91398.249894</td>\n",
              "    </tr>\n",
              "    <tr>\n",
              "      <th>23</th>\n",
              "      <td>2044</td>\n",
              "      <td>124800</td>\n",
              "      <td>62400.0</td>\n",
              "      <td>2.438754e+06</td>\n",
              "      <td>97550.179889</td>\n",
              "    </tr>\n",
              "    <tr>\n",
              "      <th>24</th>\n",
              "      <td>2045</td>\n",
              "      <td>124800</td>\n",
              "      <td>62400.0</td>\n",
              "      <td>2.598705e+06</td>\n",
              "      <td>103948.187085</td>\n",
              "    </tr>\n",
              "    <tr>\n",
              "      <th>25</th>\n",
              "      <td>2046</td>\n",
              "      <td>124800</td>\n",
              "      <td>62400.0</td>\n",
              "      <td>2.765053e+06</td>\n",
              "      <td>110602.114568</td>\n",
              "    </tr>\n",
              "    <tr>\n",
              "      <th>26</th>\n",
              "      <td>2047</td>\n",
              "      <td>124800</td>\n",
              "      <td>62400.0</td>\n",
              "      <td>2.938055e+06</td>\n",
              "      <td>117522.199151</td>\n",
              "    </tr>\n",
              "    <tr>\n",
              "      <th>27</th>\n",
              "      <td>2048</td>\n",
              "      <td>124800</td>\n",
              "      <td>62400.0</td>\n",
              "      <td>3.117977e+06</td>\n",
              "      <td>124719.087117</td>\n",
              "    </tr>\n",
              "    <tr>\n",
              "      <th>28</th>\n",
              "      <td>2049</td>\n",
              "      <td>124800</td>\n",
              "      <td>62400.0</td>\n",
              "      <td>3.305096e+06</td>\n",
              "      <td>132203.850602</td>\n",
              "    </tr>\n",
              "    <tr>\n",
              "      <th>29</th>\n",
              "      <td>2050</td>\n",
              "      <td>124800</td>\n",
              "      <td>62400.0</td>\n",
              "      <td>3.499700e+06</td>\n",
              "      <td>139988.004626</td>\n",
              "    </tr>\n",
              "  </tbody>\n",
              "</table>\n",
              "</div>"
            ],
            "text/plain": [
              "    Year  Yearly_Income  Yearly_Expenses  Yearly_Investments  Annual_Returns\n",
              "0   2021         124800          62400.0        6.240000e+04     2496.000000\n",
              "1   2022         124800          62400.0        1.272960e+05     5091.840000\n",
              "2   2023         124800          62400.0        1.947878e+05     7791.513600\n",
              "3   2024         124800          62400.0        2.649794e+05    10599.174144\n",
              "4   2025         124800          62400.0        3.379785e+05    13519.141110\n",
              "5   2026         124800          62400.0        4.138977e+05    16555.906754\n",
              "6   2027         124800          62400.0        4.928536e+05    19714.143024\n",
              "7   2028         124800          62400.0        5.749677e+05    22998.708745\n",
              "8   2029         124800          62400.0        6.603664e+05    26414.657095\n",
              "9   2030         124800          62400.0        7.491811e+05    29967.243379\n",
              "10  2031         124800          62400.0        8.415483e+05    33661.933114\n",
              "11  2032         124800          62400.0        9.376103e+05    37504.410439\n",
              "12  2033         124800          62400.0        1.037515e+06    41500.586856\n",
              "13  2034         124800          62400.0        1.141415e+06    45656.610330\n",
              "14  2035         124800          62400.0        1.249472e+06    49978.874744\n",
              "15  2036         124800          62400.0        1.361851e+06    54474.029733\n",
              "16  2037         124800          62400.0        1.478725e+06    59148.990923\n",
              "17  2038         124800          62400.0        1.600274e+06    64010.950560\n",
              "18  2039         124800          62400.0        1.726685e+06    69067.388582\n",
              "19  2040         124800          62400.0        1.858152e+06    74326.084125\n",
              "20  2041         124800          62400.0        1.994878e+06    79795.127490\n",
              "21  2042         124800          62400.0        2.137073e+06    85482.932590\n",
              "22  2043         124800          62400.0        2.284956e+06    91398.249894\n",
              "23  2044         124800          62400.0        2.438754e+06    97550.179889\n",
              "24  2045         124800          62400.0        2.598705e+06   103948.187085\n",
              "25  2046         124800          62400.0        2.765053e+06   110602.114568\n",
              "26  2047         124800          62400.0        2.938055e+06   117522.199151\n",
              "27  2048         124800          62400.0        3.117977e+06   124719.087117\n",
              "28  2049         124800          62400.0        3.305096e+06   132203.850602\n",
              "29  2050         124800          62400.0        3.499700e+06   139988.004626"
            ]
          },
          "metadata": {},
          "execution_count": 87
        }
      ]
    },
    {
      "cell_type": "code",
      "metadata": {
        "colab": {
          "base_uri": "https://localhost:8080/",
          "height": 365
        },
        "id": "JzkO5iBSKkja",
        "outputId": "fa7b1421-9ec2-43df-9d32-80949fa03ac8"
      },
      "source": [
        "# Vissualize the data\n",
        "plt.figure(figsize=(12.5, 5))\n",
        "plt.plot(df['Year'], df['Yearly_Expenses'], label = 'Yearly_Expenses')\n",
        "plt.plot(df['Year'], df['Annual_Returns'], label = 'Annual_Returns')\n",
        "plt.xticks(rotation = 45)\n",
        "plt.title('Investment period: '+ str(invested_years)+ ' years')\n",
        "plt.xlabel('Years')\n",
        "plt.ylabel('Money based on your currency input')\n",
        "plt.xticks(df['Year'])\n",
        "plt.legend()\n",
        "plt.show()"
      ],
      "execution_count": 88,
      "outputs": [
        {
          "output_type": "display_data",
          "data": {
            "image/png": "[encoded data removed]",
            "text/plain": [
              "<Figure size 900x360 with 1 Axes>"
            ]
          },
          "metadata": {
            "needs_background": "light"
          }
        }
      ]
    },
    {
      "cell_type": "code",
      "metadata": {
        "colab": {
          "base_uri": "https://localhost:8080/",
          "height": 81
        },
        "id": "U9XBqbnRMY6e",
        "outputId": "4a1b4fbb-0759-4bca-d298-99b2d3ea9caa"
      },
      "source": [
        "# Show the year / row where you can life off your returns\n",
        "df[df.Yearly_Expenses <= df.Annual_Returns].head(1)"
      ],
      "execution_count": 89,
      "outputs": [
        {
          "output_type": "execute_result",
          "data": {
            "text/html": [
              "<div>\n",
              "<style scoped>\n",
              "    .dataframe tbody tr th:only-of-type {\n",
              "        vertical-align: middle;\n",
              "    }\n",
              "\n",
              "    .dataframe tbody tr th {\n",
              "        vertical-align: top;\n",
              "    }\n",
              "\n",
              "    .dataframe thead th {\n",
              "        text-align: right;\n",
              "    }\n",
              "</style>\n",
              "<table border=\"1\" class=\"dataframe\">\n",
              "  <thead>\n",
              "    <tr style=\"text-align: right;\">\n",
              "      <th></th>\n",
              "      <th>Year</th>\n",
              "      <th>Yearly_Income</th>\n",
              "      <th>Yearly_Expenses</th>\n",
              "      <th>Yearly_Investments</th>\n",
              "      <th>Annual_Returns</th>\n",
              "    </tr>\n",
              "  </thead>\n",
              "  <tbody>\n",
              "    <tr>\n",
              "      <th>17</th>\n",
              "      <td>2038</td>\n",
              "      <td>124800</td>\n",
              "      <td>62400.0</td>\n",
              "      <td>1.600274e+06</td>\n",
              "      <td>64010.95056</td>\n",
              "    </tr>\n",
              "  </tbody>\n",
              "</table>\n",
              "</div>"
            ],
            "text/plain": [
              "    Year  Yearly_Income  Yearly_Expenses  Yearly_Investments  Annual_Returns\n",
              "17  2038         124800          62400.0        1.600274e+06     64010.95056"
            ]
          },
          "metadata": {},
          "execution_count": 89
        }
      ]
    }
  ]
}